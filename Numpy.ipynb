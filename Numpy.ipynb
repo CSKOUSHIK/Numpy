{
 "cells": [
  {
   "cell_type": "markdown",
   "metadata": {},
   "source": [
    "# NumPy - Numerical Python"
   ]
  },
  {
   "cell_type": "markdown",
   "metadata": {},
   "source": [
    "![](numpy.JPG)"
   ]
  },
  {
   "cell_type": "markdown",
   "metadata": {},
   "source": [
    "__*NumPy is a library for the Python programming language, adding support for large,multi-dimensional arrays and matrices, along with a large collection of high-level mathematical functions to operate on these arrays.The fundamental package for scientific computing with Python.In 2005, Travis Oliphant created NumPy by incorporating features of the competing Numarray into Numeric, with extensive modifications. NumPy is open-source software and has many contributors.*__"
   ]
  },
  {
   "cell_type": "markdown",
   "metadata": {},
   "source": [
    "# *Ndarray*"
   ]
  },
  {
   "cell_type": "markdown",
   "metadata": {},
   "source": [
    "*__The core functionality of NumPy is its \"ndarray\", for n-dimensional array, data structure. These arrays are strided views on memory. In contrast to Python's built-in list data structure, these arrays are HOMOGENEOUSLY typed: all elements of a single array must be of the same type.__*"
   ]
  },
  {
   "cell_type": "markdown",
   "metadata": {},
   "source": [
    "![](nda.png)"
   ]
  },
  {
   "cell_type": "markdown",
   "metadata": {},
   "source": [
    "# *_NOTE_*\n",
    "* In NumPy, each dimension is called an **axis**.\n",
    "* The number of axes is called the **rank**.\n",
    "* An array's list of axis lengths is called the **shape** of the array.\n",
    "* The **\"rank is equal to the shape's length\"**.\n",
    "* The **size** of an array is the total number of elements, which is the product of all axis lengths."
   ]
  },
  {
   "cell_type": "code",
   "execution_count": 1,
   "metadata": {},
   "outputs": [
    {
     "data": {
      "text/plain": [
       "'1.15.1'"
      ]
     },
     "execution_count": 1,
     "metadata": {},
     "output_type": "execute_result"
    }
   ],
   "source": [
    "import numpy as np #Importing numpy package\n",
    "np.__version__ # Version of Numpy Package "
   ]
  },
  {
   "cell_type": "code",
   "execution_count": 2,
   "metadata": {},
   "outputs": [],
   "source": [
    "array_1D=np.array([7,2,9,10])         # Creating 1Dimensional numpy array\n",
    "array_2D=np.array([[5.2,3.0,4.5],    # Creating 2Dimensional numpy array\n",
    "                    [9.1,0.1,0.3]\n",
    "                   ])\n",
    "array_3D=np.array([                   # Creating 3Dimensional numpy array\n",
    "                   [ \n",
    "                    [1,4,7],\n",
    "                    [2,9,7],\n",
    "                    [1,3,0],\n",
    "                    [9,6,9]\n",
    "                   ],\n",
    "                   [\n",
    "                    [2,3,4],\n",
    "                    [1,3,5],\n",
    "                    [0,1,2],\n",
    "                    [8,6,8]\n",
    "                   ]    \n",
    "                  ])"
   ]
  },
  {
   "cell_type": "markdown",
   "metadata": {},
   "source": [
    "__Since Ndarray is homogeneous in nature.All the elements inside them are of same datatype__"
   ]
  },
  {
   "cell_type": "code",
   "execution_count": 3,
   "metadata": {},
   "outputs": [
    {
     "name": "stdout",
     "output_type": "stream",
     "text": [
      "1D array\n",
      " [ 7  2  9 10] \n",
      "2D array\n",
      " [[5.2 3.  4.5]\n",
      " [9.1 0.1 0.3]] \n",
      "3D array\n",
      " [[[1 4 7]\n",
      "  [2 9 7]\n",
      "  [1 3 0]\n",
      "  [9 6 9]]\n",
      "\n",
      " [[2 3 4]\n",
      "  [1 3 5]\n",
      "  [0 1 2]\n",
      "  [8 6 8]]]\n"
     ]
    }
   ],
   "source": [
    "print('1D array\\n',array_1D ,'\\n2D array\\n',array_2D,'\\n3D array\\n',array_3D)"
   ]
  },
  {
   "cell_type": "code",
   "execution_count": 4,
   "metadata": {},
   "outputs": [
    {
     "name": "stdout",
     "output_type": "stream",
     "text": [
      "Shape of 1D array ---> (4,) \n",
      "Shape of 2D array ---> (2, 3) \n",
      "Shape of 3D array ---> (2, 4, 3)\n"
     ]
    }
   ],
   "source": [
    "print('Shape of 1D array --->',array_1D.shape,'\\nShape of 2D array --->',array_2D.shape,'\\nShape of 3D array --->',array_3D.shape)"
   ]
  },
  {
   "cell_type": "code",
   "execution_count": 5,
   "metadata": {},
   "outputs": [
    {
     "name": "stdout",
     "output_type": "stream",
     "text": [
      "Datatype of 1D array ---> int32 \n",
      "Datatype  of 2D array ---> float64 \n",
      "Datatype  of 3D array ---> int32\n"
     ]
    }
   ],
   "source": [
    "print('Datatype of 1D array --->',array_1D.dtype,'\\nDatatype  of 2D array --->',array_2D.dtype,'\\nDatatype  of 3D array --->',array_3D.dtype)"
   ]
  },
  {
   "cell_type": "code",
   "execution_count": 6,
   "metadata": {},
   "outputs": [
    {
     "name": "stdout",
     "output_type": "stream",
     "text": [
      "Number of Dimensions of 1D array ---> 1 \n",
      "Number of Dimension  of 2D array ---> 2 \n",
      "Number of Dimension  of 3D array ---> 3\n"
     ]
    }
   ],
   "source": [
    "print('Number of Dimensions of 1D array --->',array_1D.ndim,'\\nNumber of Dimension  of 2D array --->',array_2D.ndim,'\\nNumber of Dimension  of 3D array --->',array_3D.ndim)"
   ]
  },
  {
   "cell_type": "code",
   "execution_count": 7,
   "metadata": {},
   "outputs": [
    {
     "name": "stdout",
     "output_type": "stream",
     "text": [
      "Type of 1D array ---> <class 'numpy.ndarray'> \n",
      "Type  of 2D array ---> <class 'numpy.ndarray'> \n",
      "Type  of 3D array ---> <class 'numpy.ndarray'>\n"
     ]
    }
   ],
   "source": [
    "print('Type of 1D array --->',type(array_1D),'\\nType  of 2D array --->',type(array_2D),'\\nType  of 3D array --->',type(array_3D))"
   ]
  },
  {
   "cell_type": "code",
   "execution_count": 8,
   "metadata": {},
   "outputs": [
    {
     "name": "stdout",
     "output_type": "stream",
     "text": [
      "Number of Elements in 1D array ---> 4 \n",
      "Number of Elements in 2D array ---> 6 \n",
      "Number of Elements in 3D array ---> 24\n"
     ]
    }
   ],
   "source": [
    "print('Number of Elements in 1D array --->',array_1D.size,'\\nNumber of Elements in 2D array --->',array_2D.size,'\\nNumber of Elements in 3D array --->',array_3D.size)"
   ]
  },
  {
   "cell_type": "code",
   "execution_count": 9,
   "metadata": {},
   "outputs": [
    {
     "name": "stdout",
     "output_type": "stream",
     "text": [
      "Size in Bytes of Each element in 1D array ---> 4 int32 \n",
      "Size in Bytes of Each element in 2D array ---> 8 float64 \n",
      "Size in Bytes of Each element in 3D array ---> 4 int32\n"
     ]
    }
   ],
   "source": [
    "print('Size in Bytes of Each element in 1D array --->',array_1D.itemsize,array_1D.dtype,'\\nSize in Bytes of Each element in 2D array --->',array_2D.itemsize,array_2D.dtype,'\\nSize in Bytes of Each element in 3D array --->',array_3D.itemsize,array_3D.dtype)"
   ]
  },
  {
   "cell_type": "code",
   "execution_count": 10,
   "metadata": {},
   "outputs": [
    {
     "name": "stdout",
     "output_type": "stream",
     "text": [
      "Total Size in Bytes of 1D array ---> 16 int32 \n",
      "Total Size in Bytes of 2D array ---> 48 float64 \n",
      "Total Size in Bytes of 3D array ---> 96 int32\n"
     ]
    }
   ],
   "source": [
    "print('Total Size in Bytes of 1D array --->',array_1D.nbytes,array_1D.dtype,'\\nTotal Size in Bytes of 2D array --->',array_2D.nbytes,array_2D.dtype,'\\nTotal Size in Bytes of 3D array --->',array_3D.nbytes,array_3D.dtype)"
   ]
  },
  {
   "cell_type": "markdown",
   "metadata": {},
   "source": [
    "### np.zeros"
   ]
  },
  {
   "cell_type": "code",
   "execution_count": 11,
   "metadata": {},
   "outputs": [
    {
     "name": "stdout",
     "output_type": "stream",
     "text": [
      "[[0. 0. 0. 0. 0. 0.]\n",
      " [0. 0. 0. 0. 0. 0.]\n",
      " [0. 0. 0. 0. 0. 0.]\n",
      " [0. 0. 0. 0. 0. 0.]] ---> float64\n"
     ]
    }
   ],
   "source": [
    "array_zero=np.zeros((4,6)) #Arrays with zeros\n",
    "print(array_zero,'--->',array_zero.dtype)"
   ]
  },
  {
   "cell_type": "code",
   "execution_count": 12,
   "metadata": {},
   "outputs": [
    {
     "name": "stdout",
     "output_type": "stream",
     "text": [
      "[[0. 0. 0.]\n",
      " [0. 0. 0.]] ---> float64\n"
     ]
    }
   ],
   "source": [
    "array_likezero=np.zeros_like(array_2D)\n",
    "print(array_likezero,'--->',array_likezero.dtype)"
   ]
  },
  {
   "cell_type": "markdown",
   "metadata": {},
   "source": [
    "### np.ones"
   ]
  },
  {
   "cell_type": "code",
   "execution_count": 13,
   "metadata": {},
   "outputs": [
    {
     "name": "stdout",
     "output_type": "stream",
     "text": [
      "[[1. 1. 1. 1. 1. 1.]\n",
      " [1. 1. 1. 1. 1. 1.]\n",
      " [1. 1. 1. 1. 1. 1.]\n",
      " [1. 1. 1. 1. 1. 1.]] ---> float64\n"
     ]
    }
   ],
   "source": [
    "array_ones=np.ones((4,6)) #Arrays with ones\n",
    "print(array_ones,'--->',array_ones.dtype)"
   ]
  },
  {
   "cell_type": "code",
   "execution_count": 14,
   "metadata": {},
   "outputs": [
    {
     "name": "stdout",
     "output_type": "stream",
     "text": [
      "[[1. 1. 1.]\n",
      " [1. 1. 1.]] ---> float64\n"
     ]
    }
   ],
   "source": [
    "array_likeones=np.ones_like(array_2D)\n",
    "print(array_likeones,'--->',array_likeones.dtype)"
   ]
  },
  {
   "cell_type": "markdown",
   "metadata": {},
   "source": [
    "### np.identity"
   ]
  },
  {
   "cell_type": "code",
   "execution_count": 15,
   "metadata": {},
   "outputs": [
    {
     "name": "stdout",
     "output_type": "stream",
     "text": [
      "[[1 0 0 0 0 0]\n",
      " [0 1 0 0 0 0]\n",
      " [0 0 1 0 0 0]\n",
      " [0 0 0 1 0 0]\n",
      " [0 0 0 0 1 0]\n",
      " [0 0 0 0 0 1]] ---> int64\n"
     ]
    }
   ],
   "source": [
    "array_identity=np.identity(6,np.int64) # identity matrix with 1 being in diagonal\n",
    "print(array_identity,'--->',array_identity.dtype)"
   ]
  },
  {
   "cell_type": "markdown",
   "metadata": {},
   "source": [
    "### np.full\n",
    "Creates an array of the given shape initialized with the given value. Here's a 3x5 matrix full of value sine(-1)"
   ]
  },
  {
   "cell_type": "code",
   "execution_count": 16,
   "metadata": {},
   "outputs": [
    {
     "name": "stdout",
     "output_type": "stream",
     "text": [
      "[[-0.84147098 -0.84147098 -0.84147098 -0.84147098 -0.84147098]\n",
      " [-0.84147098 -0.84147098 -0.84147098 -0.84147098 -0.84147098]\n",
      " [-0.84147098 -0.84147098 -0.84147098 -0.84147098 -0.84147098]] ---> float64\n"
     ]
    }
   ],
   "source": [
    "array_full=np.full((3,5),np.sin(-1))\n",
    "print(array_full,'--->',array_full.dtype)"
   ]
  },
  {
   "cell_type": "code",
   "execution_count": 17,
   "metadata": {},
   "outputs": [
    {
     "name": "stdout",
     "output_type": "stream",
     "text": [
      "[5 5 5 5] ---> int32\n"
     ]
    }
   ],
   "source": [
    "array_fulllike=np.full_like(array_1D,5)\n",
    "print(array_fulllike,'--->',array_fulllike.dtype)"
   ]
  },
  {
   "cell_type": "markdown",
   "metadata": {},
   "source": [
    "### np.empty\n",
    "An uninitialized 2x4 array (its content is not predictable, as it is whatever is in memory at that point):"
   ]
  },
  {
   "cell_type": "code",
   "execution_count": 18,
   "metadata": {},
   "outputs": [
    {
     "name": "stdout",
     "output_type": "stream",
     "text": [
      "[[0.00e+000 0.00e+000 0.00e+000 0.00e+000]\n",
      " [0.00e+000 6.54e-321 0.00e+000 0.00e+000]] ---> float64\n"
     ]
    }
   ],
   "source": [
    "array_empty=np.empty((2,4))\n",
    "print(array_empty,'--->',array_empty.dtype)"
   ]
  },
  {
   "cell_type": "code",
   "execution_count": 19,
   "metadata": {},
   "outputs": [
    {
     "name": "stdout",
     "output_type": "stream",
     "text": [
      "[-766221184        613          0          0] ---> int32\n"
     ]
    }
   ],
   "source": [
    "array_emptylike=np.empty_like(array_1D)\n",
    "print(array_emptylike,'--->',array_emptylike.dtype)"
   ]
  },
  {
   "cell_type": "markdown",
   "metadata": {},
   "source": [
    "### np.arange\n",
    "You can create an ndarray using NumPy's range function, which is similar to python's built-in range function:"
   ]
  },
  {
   "cell_type": "code",
   "execution_count": 20,
   "metadata": {},
   "outputs": [
    {
     "data": {
      "text/plain": [
       "array([3, 5, 7, 9])"
      ]
     },
     "execution_count": 20,
     "metadata": {},
     "output_type": "execute_result"
    }
   ],
   "source": [
    "np.arange(3,10,2)"
   ]
  },
  {
   "cell_type": "markdown",
   "metadata": {},
   "source": [
    "### np.linspace\n",
    "The linspace function returns an array containing a specific number of points evenly distributed between two values (note that the maximum value is included, contrary to arange):"
   ]
  },
  {
   "cell_type": "code",
   "execution_count": 21,
   "metadata": {},
   "outputs": [
    {
     "data": {
      "text/plain": [
       "array([100. , 112.5, 125. , 137.5, 150. , 162.5, 175. , 187.5, 200. ,\n",
       "       212.5, 225. , 237.5, 250. , 262.5, 275. , 287.5, 300. , 312.5,\n",
       "       325. , 337.5, 350. , 362.5, 375. , 387.5, 400. ])"
      ]
     },
     "execution_count": 21,
     "metadata": {},
     "output_type": "execute_result"
    }
   ],
   "source": [
    "np.linspace(100,400,25)"
   ]
  },
  {
   "cell_type": "markdown",
   "metadata": {},
   "source": [
    "### np.random\n"
   ]
  },
  {
   "cell_type": "markdown",
   "metadata": {},
   "source": [
    "Here is a 3x3 matrix initialized with random floats between 0 and 1 (uniform distribution)"
   ]
  },
  {
   "cell_type": "code",
   "execution_count": 22,
   "metadata": {},
   "outputs": [
    {
     "data": {
      "text/plain": [
       "array([[0.23491304, 0.71947743, 0.37360799],\n",
       "       [0.86717102, 0.82053791, 0.02771375],\n",
       "       [0.77871116, 0.38631342, 0.91566568]])"
      ]
     },
     "execution_count": 22,
     "metadata": {},
     "output_type": "execute_result"
    }
   ],
   "source": [
    "np.random.rand(3,3)"
   ]
  },
  {
   "cell_type": "markdown",
   "metadata": {},
   "source": [
    "Here's a 3x4 matrix containing random floats sampled from a univariate normal distribution (Gaussian distribution) of mean 0 and variance 1"
   ]
  },
  {
   "cell_type": "code",
   "execution_count": 23,
   "metadata": {},
   "outputs": [
    {
     "data": {
      "text/plain": [
       "array([[ 0.25713908, -1.05007245, -0.07239964],\n",
       "       [ 0.69028792,  1.10115722, -1.6136151 ],\n",
       "       [-0.97733731, -1.7358142 ,  2.32660562]])"
      ]
     },
     "execution_count": 23,
     "metadata": {},
     "output_type": "execute_result"
    }
   ],
   "source": [
    "np.random.randn(3,3)"
   ]
  },
  {
   "cell_type": "markdown",
   "metadata": {},
   "source": [
    "![](random.JPG)"
   ]
  },
  {
   "cell_type": "code",
   "execution_count": 24,
   "metadata": {},
   "outputs": [
    {
     "data": {
      "text/plain": [
       "array([[95, 82, 11],\n",
       "       [37, 86, 25],\n",
       "       [93, 86,  4]])"
      ]
     },
     "execution_count": 24,
     "metadata": {},
     "output_type": "execute_result"
    }
   ],
   "source": [
    "np.random.randint(1,100,(3,3))"
   ]
  },
  {
   "cell_type": "markdown",
   "metadata": {},
   "source": [
    "### Reshape\n",
    "The reshape function returns a new ndarray object pointing at the same data. This means that modifying one array will also modify the other."
   ]
  },
  {
   "cell_type": "code",
   "execution_count": 25,
   "metadata": {},
   "outputs": [
    {
     "name": "stdout",
     "output_type": "stream",
     "text": [
      "[[1 4 7 2 9 7 1 3 0 9 6 9]\n",
      " [2 3 4 1 3 5 0 1 2 8 6 8]]\n"
     ]
    }
   ],
   "source": [
    "arr_reshape=np.reshape(array_3D,(2,12))\n",
    "print(arr_reshape)"
   ]
  },
  {
   "cell_type": "code",
   "execution_count": 26,
   "metadata": {},
   "outputs": [
    {
     "data": {
      "text/plain": [
       "array([[[1, 4, 7],\n",
       "        [2, 9, 7],\n",
       "        [1, 3, 0],\n",
       "        [9, 6, 9]],\n",
       "\n",
       "       [[2, 3, 4],\n",
       "        [1, 3, 5],\n",
       "        [0, 1, 2],\n",
       "        [8, 6, 8]]])"
      ]
     },
     "execution_count": 26,
     "metadata": {},
     "output_type": "execute_result"
    }
   ],
   "source": [
    "array_3D"
   ]
  },
  {
   "cell_type": "code",
   "execution_count": 27,
   "metadata": {},
   "outputs": [
    {
     "data": {
      "text/plain": [
       "array([[  1,   4,   7,   2,   9,   7,   1,   3,   0,   9,   6,   9],\n",
       "       [  2,   3, 555,   1,   3,   5,   0,   1,   2,   8,   6,   8]])"
      ]
     },
     "execution_count": 27,
     "metadata": {},
     "output_type": "execute_result"
    }
   ],
   "source": [
    "arr_reshape[1,2]=555\n",
    "arr_reshape"
   ]
  },
  {
   "cell_type": "code",
   "execution_count": 28,
   "metadata": {},
   "outputs": [
    {
     "data": {
      "text/plain": [
       "array([[[  1,   4,   7],\n",
       "        [  2,   9,   7],\n",
       "        [  1,   3,   0],\n",
       "        [  9,   6,   9]],\n",
       "\n",
       "       [[  2,   3, 555],\n",
       "        [  1,   3,   5],\n",
       "        [  0,   1,   2],\n",
       "        [  8,   6,   8]]])"
      ]
     },
     "execution_count": 28,
     "metadata": {},
     "output_type": "execute_result"
    }
   ],
   "source": [
    "array_3D"
   ]
  },
  {
   "cell_type": "markdown",
   "metadata": {},
   "source": [
    "### Ravel(EFFICIENT)\n",
    "Finally, the ravel function returns a new one-dimensional ndarray that also points to the same data:\n",
    "*__Changes in arr_ravel affect and changes are also made in arr_reshape__*"
   ]
  },
  {
   "cell_type": "code",
   "execution_count": 29,
   "metadata": {},
   "outputs": [
    {
     "data": {
      "text/plain": [
       "(array([  1,   4,   7,   2,   9,   7,   1,   3,   0,   9,   6,   9,   2,\n",
       "          3, 555,   1,   3,   5,   0,   1,   2,   8,   6,   8]),\n",
       " (24,))"
      ]
     },
     "execution_count": 29,
     "metadata": {},
     "output_type": "execute_result"
    }
   ],
   "source": [
    "arr_ravel=np.ravel(arr_reshape)\n",
    "arr_ravel,arr_ravel.shape"
   ]
  },
  {
   "cell_type": "markdown",
   "metadata": {},
   "source": [
    "### Flatten(SAFE)\n",
    "The resulting array in a new copy of the array.*__Changes in arr_flatten will not affect and no changes are made in arr_flatten__*"
   ]
  },
  {
   "cell_type": "code",
   "execution_count": 30,
   "metadata": {},
   "outputs": [
    {
     "data": {
      "text/plain": [
       "(array([5.2, 3. , 4.5, 9.1, 0.1, 0.3]), (6,))"
      ]
     },
     "execution_count": 30,
     "metadata": {},
     "output_type": "execute_result"
    }
   ],
   "source": [
    "arr_flatten=array_2D.flatten()\n",
    "arr_flatten,arr_flatten.shape"
   ]
  },
  {
   "cell_type": "markdown",
   "metadata": {},
   "source": [
    "### Max, Argmax, Min, Argmin"
   ]
  },
  {
   "cell_type": "code",
   "execution_count": 31,
   "metadata": {},
   "outputs": [
    {
     "data": {
      "text/plain": [
       "555"
      ]
     },
     "execution_count": 31,
     "metadata": {},
     "output_type": "execute_result"
    }
   ],
   "source": [
    "array_3D.max()  # Maximum value of that array"
   ]
  },
  {
   "cell_type": "code",
   "execution_count": 32,
   "metadata": {},
   "outputs": [
    {
     "data": {
      "text/plain": [
       "14"
      ]
     },
     "execution_count": 32,
     "metadata": {},
     "output_type": "execute_result"
    }
   ],
   "source": [
    "array_3D.argmax()  # The index that is reffering to the maximum value of the array"
   ]
  },
  {
   "cell_type": "code",
   "execution_count": 33,
   "metadata": {},
   "outputs": [
    {
     "data": {
      "text/plain": [
       "0"
      ]
     },
     "execution_count": 33,
     "metadata": {},
     "output_type": "execute_result"
    }
   ],
   "source": [
    "array_3D.min() # Minimum value of that array"
   ]
  },
  {
   "cell_type": "code",
   "execution_count": 34,
   "metadata": {},
   "outputs": [
    {
     "data": {
      "text/plain": [
       "8"
      ]
     },
     "execution_count": 34,
     "metadata": {},
     "output_type": "execute_result"
    }
   ],
   "source": [
    "array_3D.argmin()  #The index that is reffering to the minimum value of the array"
   ]
  },
  {
   "cell_type": "markdown",
   "metadata": {},
   "source": [
    "### Transpose"
   ]
  },
  {
   "cell_type": "code",
   "execution_count": 35,
   "metadata": {},
   "outputs": [
    {
     "data": {
      "text/plain": [
       "(array([[[  1,   4,   7],\n",
       "         [  2,   9,   7],\n",
       "         [  1,   3,   0],\n",
       "         [  9,   6,   9]],\n",
       " \n",
       "        [[  2,   3, 555],\n",
       "         [  1,   3,   5],\n",
       "         [  0,   1,   2],\n",
       "         [  8,   6,   8]]]),\n",
       " (2, 4, 3))"
      ]
     },
     "execution_count": 35,
     "metadata": {},
     "output_type": "execute_result"
    }
   ],
   "source": [
    "array_3D,array_3D.shape   # Transpose of the matrix.The rows and columns get interchanged"
   ]
  },
  {
   "cell_type": "code",
   "execution_count": 36,
   "metadata": {},
   "outputs": [
    {
     "data": {
      "text/plain": [
       "(array([[[  1,   2],\n",
       "         [  2,   1],\n",
       "         [  1,   0],\n",
       "         [  9,   8]],\n",
       " \n",
       "        [[  4,   3],\n",
       "         [  9,   3],\n",
       "         [  3,   1],\n",
       "         [  6,   6]],\n",
       " \n",
       "        [[  7, 555],\n",
       "         [  7,   5],\n",
       "         [  0,   2],\n",
       "         [  9,   8]]]),\n",
       " (3, 4, 2))"
      ]
     },
     "execution_count": 36,
     "metadata": {},
     "output_type": "execute_result"
    }
   ],
   "source": [
    "array_3D.T,array_3D.T.shape"
   ]
  },
  {
   "cell_type": "markdown",
   "metadata": {},
   "source": [
    "# Indexing  and Slicing"
   ]
  },
  {
   "cell_type": "markdown",
   "metadata": {},
   "source": [
    "![](slice.JPG)"
   ]
  },
  {
   "cell_type": "code",
   "execution_count": 37,
   "metadata": {},
   "outputs": [
    {
     "name": "stdout",
     "output_type": "stream",
     "text": [
      "[[ 0  1  2  3  4  5]\n",
      " [10 11 12 13 14 15]\n",
      " [20 21 22 23 24 25]\n",
      " [30 31 32 33 34 35]\n",
      " [40 41 42 43 44 45]\n",
      " [50 51 52 53 54 55]]\n"
     ]
    }
   ],
   "source": [
    "Array=np.array([[0,1,2,3,4,5],[10,11,12,13,14,15],[20,21,22,23,24,25],[30,31,32,33,34,35]\n",
    "               ,[40,41,42,43,44,45],[50,51,52,53,54,55]])\n",
    "print(Array)"
   ]
  },
  {
   "cell_type": "code",
   "execution_count": 38,
   "metadata": {},
   "outputs": [
    {
     "name": "stdout",
     "output_type": "stream",
     "text": [
      "[ 2 22 52]\n"
     ]
    }
   ],
   "source": [
    "red=Array[[0,2,5],2]   #Fancy Indexing\n",
    "print(red)"
   ]
  },
  {
   "cell_type": "code",
   "execution_count": 39,
   "metadata": {},
   "outputs": [
    {
     "name": "stdout",
     "output_type": "stream",
     "text": [
      "[[30 32 35]\n",
      " [40 42 45]\n",
      " [50 52 55]]\n"
     ]
    }
   ],
   "source": [
    "blue=Array[3:,[0,2,5]]\n",
    "print(blue)"
   ]
  },
  {
   "cell_type": "code",
   "execution_count": 40,
   "metadata": {},
   "outputs": [
    {
     "name": "stdout",
     "output_type": "stream",
     "text": [
      "[ 1 12 23 34 45]\n"
     ]
    }
   ],
   "source": [
    "yellow=Array[[0,1,2,3,4],[1,2,3,4,5]]\n",
    "print(yellow)"
   ]
  },
  {
   "cell_type": "markdown",
   "metadata": {},
   "source": [
    "# Arithmetic operations\n",
    "All the usual arithmetic operators (`+`, `-`, `*`, `/`, `//`, `**`, etc.) can be used with `ndarray`s. They apply *elementwise*:"
   ]
  },
  {
   "cell_type": "code",
   "execution_count": 41,
   "metadata": {},
   "outputs": [
    {
     "name": "stdout",
     "output_type": "stream",
     "text": [
      "a + b  = [ 81  72 100 161]\n",
      "a - b  = [-31  -4  52  31]\n",
      "a * b  = [1400 1292 1824 6240]\n",
      "a / b  = [0.44642857 0.89473684 3.16666667 1.47692308]\n",
      "a // b  = [0 0 3 1]\n",
      "a % b  = [25 34  4 31]\n",
      "a ** b = [629038657         0         0         0]\n",
      "Exponential of A ---> [7.20048993e+10 5.83461743e+14 1.01480039e+33 4.92345829e+41]\n",
      "sine value of B ---> [-0.521551    0.29636858 -0.90557836  0.82682868]\n",
      "cosine value of A ---> [ 0.99120281 -0.84857027  0.82433133 -0.18043045]\n",
      "Logrithmic value of B---> [4.02535169 3.63758616 3.17805383 4.17438727]\n",
      "Square Root value of A ---> [5.         5.83095189 8.71779789 9.79795897]\n",
      "Dot Product of A & B ---> 10756\n"
     ]
    }
   ],
   "source": [
    "A = np.array([25,34,76,96])\n",
    "B = np.array([56,38,24,65])\n",
    "print(\"a + b  =\", A + B)\n",
    "print(\"a - b  =\", A - B)\n",
    "print(\"a * b  =\", A * B)\n",
    "print(\"a / b  =\", A / B)\n",
    "print(\"a // b  =\", A // B)\n",
    "print(\"a % b  =\", A % B)\n",
    "print(\"a ** b =\", A ** B)\n",
    "print('Exponential of A --->',np.exp(A))\n",
    "print('sine value of B --->',np.sin(B))\n",
    "print('cosine value of A --->',np.cos(A))\n",
    "print('Logrithmic value of B--->',np.log(B))\n",
    "print('Square Root value of A --->',np.sqrt(A))\n",
    "print('Dot Product of A & B --->',A.dot(B))"
   ]
  },
  {
   "cell_type": "markdown",
   "metadata": {},
   "source": [
    "**Note that the multiplication is *not* a matrix multiplication. We will discuss matrix operations below.\n",
    "The arrays must have the same shape. If they do not, NumPy will apply the *broadcasting rules*.**"
   ]
  },
  {
   "cell_type": "markdown",
   "metadata": {},
   "source": [
    "## BROADCASTING "
   ]
  },
  {
   "cell_type": "markdown",
   "metadata": {},
   "source": [
    "**Numpy arrays of different dimensionality can be combined in the same expression.Arrays with smaller dimension are** `Broadcasted` **to match the larger arrays,without copying data.**\n",
    "* Broadcasting can often be used to replace needless data replication inside a NumPy array expression.\n",
    "* Broadcationg can also be used to slice elements from different \"depths\" in a 3D or any other shape arrar.This is a very powerful feature of indexing\n",
    "\n",
    "_**The main Disadvantage of Broadcasting ---> Inefficient use of memory that slows computation**_"
   ]
  },
  {
   "cell_type": "markdown",
   "metadata": {},
   "source": [
    "![](Broad.JPG)"
   ]
  },
  {
   "cell_type": "code",
   "execution_count": 42,
   "metadata": {},
   "outputs": [
    {
     "name": "stdout",
     "output_type": "stream",
     "text": [
      "A\n",
      " [25 34 76 96] \tB [56 38 24 65]\n"
     ]
    }
   ],
   "source": [
    "a=np.array([\n",
    "            [0 ],\n",
    "            [10],\n",
    "            [20],\n",
    "            [30]\n",
    "           ])\n",
    "b=np.array([0,1,2])\n",
    "print('A\\n',A,'\\tB',B)"
   ]
  },
  {
   "cell_type": "code",
   "execution_count": 43,
   "metadata": {},
   "outputs": [
    {
     "name": "stdout",
     "output_type": "stream",
     "text": [
      "Shape of A ---> (4, 1) \n",
      "Shape of B ---> (3,)\n"
     ]
    }
   ],
   "source": [
    "print('Shape of A --->',a.shape,'\\nShape of B --->',b.shape)"
   ]
  },
  {
   "cell_type": "code",
   "execution_count": 44,
   "metadata": {},
   "outputs": [
    {
     "name": "stdout",
     "output_type": "stream",
     "text": [
      "[[ 0  1  2]\n",
      " [10 11 12]\n",
      " [20 21 22]\n",
      " [30 31 32]] \n",
      "Shape of C ---> (4, 3)\n"
     ]
    }
   ],
   "source": [
    "C=a+b                # A'shape has been broadcasted to (4,3)& B's shape has been broadcasted to (4,3) and then the Matrix Addition Takes place.\n",
    "print(C,'\\nShape of C --->',C.shape)   \n",
    "                                 "
   ]
  },
  {
   "cell_type": "markdown",
   "metadata": {},
   "source": [
    "### Ellipsis (`...`)\n",
    "You may also write an ellipsis (`...`) to ask that all non-specified axes be entirely included."
   ]
  },
  {
   "cell_type": "code",
   "execution_count": 45,
   "metadata": {},
   "outputs": [
    {
     "data": {
      "text/plain": [
       "array([[[  1,   4,   7],\n",
       "        [  2,   9,   7],\n",
       "        [  1,   3,   0],\n",
       "        [  9,   6,   9]],\n",
       "\n",
       "       [[  2,   3, 555],\n",
       "        [  1,   3,   5],\n",
       "        [  0,   1,   2],\n",
       "        [  8,   6,   8]]])"
      ]
     },
     "execution_count": 45,
     "metadata": {},
     "output_type": "execute_result"
    }
   ],
   "source": [
    "array_3D"
   ]
  },
  {
   "cell_type": "code",
   "execution_count": 46,
   "metadata": {},
   "outputs": [
    {
     "data": {
      "text/plain": [
       "array([[  2,   3, 555],\n",
       "       [  1,   3,   5],\n",
       "       [  0,   1,   2],\n",
       "       [  8,   6,   8]])"
      ]
     },
     "execution_count": 46,
     "metadata": {},
     "output_type": "execute_result"
    }
   ],
   "source": [
    "array_3D[1,...]"
   ]
  },
  {
   "cell_type": "markdown",
   "metadata": {},
   "source": [
    "### Stacking arrays"
   ]
  },
  {
   "cell_type": "markdown",
   "metadata": {},
   "source": [
    "### vstack\n"
   ]
  },
  {
   "cell_type": "code",
   "execution_count": 47,
   "metadata": {},
   "outputs": [
    {
     "data": {
      "text/plain": [
       "array([[1., 1., 1., 1.],\n",
       "       [1., 1., 1., 1.],\n",
       "       [1., 1., 1., 1.],\n",
       "       [2., 2., 2., 2.],\n",
       "       [2., 2., 2., 2.],\n",
       "       [2., 2., 2., 2.],\n",
       "       [2., 2., 2., 2.],\n",
       "       [3., 3., 3., 3.],\n",
       "       [3., 3., 3., 3.],\n",
       "       [3., 3., 3., 3.]])"
      ]
     },
     "execution_count": 47,
     "metadata": {},
     "output_type": "execute_result"
    }
   ],
   "source": [
    "q1 = np.full((3,4), 1.0)\n",
    "q2 = np.full((4,4), 2.0)\n",
    "q3 = np.full((3,4), 3.0)\n",
    "q4 = np.vstack((q1, q2, q3))   # Stacks arrays Vertically\n",
    "q4"
   ]
  },
  {
   "cell_type": "markdown",
   "metadata": {},
   "source": [
    "### hstack"
   ]
  },
  {
   "cell_type": "code",
   "execution_count": 48,
   "metadata": {},
   "outputs": [
    {
     "data": {
      "text/plain": [
       "array([[1., 1., 1., 1., 3., 3., 3., 3.],\n",
       "       [1., 1., 1., 1., 3., 3., 3., 3.],\n",
       "       [1., 1., 1., 1., 3., 3., 3., 3.]])"
      ]
     },
     "execution_count": 48,
     "metadata": {},
     "output_type": "execute_result"
    }
   ],
   "source": [
    "q4 = np.hstack((q1, q3))       #Stacks arrays Horizontally\n",
    "q4"
   ]
  },
  {
   "cell_type": "markdown",
   "metadata": {},
   "source": [
    "### concatenate\n",
    "The concatenate function stacks arrays along any given existing axis."
   ]
  },
  {
   "cell_type": "code",
   "execution_count": 49,
   "metadata": {},
   "outputs": [
    {
     "data": {
      "text/plain": [
       "array([[1., 1., 1., 1.],\n",
       "       [1., 1., 1., 1.],\n",
       "       [1., 1., 1., 1.],\n",
       "       [2., 2., 2., 2.],\n",
       "       [2., 2., 2., 2.],\n",
       "       [2., 2., 2., 2.],\n",
       "       [2., 2., 2., 2.],\n",
       "       [3., 3., 3., 3.],\n",
       "       [3., 3., 3., 3.],\n",
       "       [3., 3., 3., 3.]])"
      ]
     },
     "execution_count": 49,
     "metadata": {},
     "output_type": "execute_result"
    }
   ],
   "source": [
    "q7 = np.concatenate((q1, q2, q3), axis=0)  # Equivalent to vstack if axis=0 and hstack if axis=1\n",
    "q7"
   ]
  },
  {
   "cell_type": "markdown",
   "metadata": {},
   "source": [
    "### stack\n",
    "The stack function stacks arrays along a new axis. All arrays have to have the same shape."
   ]
  },
  {
   "cell_type": "code",
   "execution_count": 50,
   "metadata": {},
   "outputs": [
    {
     "data": {
      "text/plain": [
       "array([[[1., 1., 1., 1.],\n",
       "        [1., 1., 1., 1.],\n",
       "        [1., 1., 1., 1.]],\n",
       "\n",
       "       [[3., 3., 3., 3.],\n",
       "        [3., 3., 3., 3.],\n",
       "        [3., 3., 3., 3.]]])"
      ]
     },
     "execution_count": 50,
     "metadata": {},
     "output_type": "execute_result"
    }
   ],
   "source": [
    "q8 = np.stack((q1, q3))                \n",
    "q8"
   ]
  },
  {
   "cell_type": "markdown",
   "metadata": {},
   "source": [
    "### Splitting arrays"
   ]
  },
  {
   "cell_type": "code",
   "execution_count": 51,
   "metadata": {},
   "outputs": [
    {
     "data": {
      "text/plain": [
       "array([[1., 1., 1., 1.],\n",
       "       [1., 1., 1., 1.],\n",
       "       [1., 1., 1., 1.],\n",
       "       [2., 2., 2., 2.],\n",
       "       [2., 2., 2., 2.]])"
      ]
     },
     "execution_count": 51,
     "metadata": {},
     "output_type": "execute_result"
    }
   ],
   "source": [
    "r1, r2 = np.vsplit(q7, 2)\n",
    "r1"
   ]
  },
  {
   "cell_type": "code",
   "execution_count": 52,
   "metadata": {},
   "outputs": [
    {
     "data": {
      "text/plain": [
       "array([[2., 2., 2., 2.],\n",
       "       [2., 2., 2., 2.],\n",
       "       [3., 3., 3., 3.],\n",
       "       [3., 3., 3., 3.],\n",
       "       [3., 3., 3., 3.]])"
      ]
     },
     "execution_count": 52,
     "metadata": {},
     "output_type": "execute_result"
    }
   ],
   "source": [
    "r2"
   ]
  },
  {
   "cell_type": "code",
   "execution_count": 53,
   "metadata": {},
   "outputs": [
    {
     "data": {
      "text/plain": [
       "array([[1., 1.],\n",
       "       [1., 1.],\n",
       "       [1., 1.],\n",
       "       [2., 2.],\n",
       "       [2., 2.],\n",
       "       [2., 2.],\n",
       "       [2., 2.],\n",
       "       [3., 3.],\n",
       "       [3., 3.],\n",
       "       [3., 3.]])"
      ]
     },
     "execution_count": 53,
     "metadata": {},
     "output_type": "execute_result"
    }
   ],
   "source": [
    "r3,r4=np.hsplit(q7, 2)\n",
    "r3"
   ]
  },
  {
   "cell_type": "code",
   "execution_count": 54,
   "metadata": {},
   "outputs": [
    {
     "data": {
      "text/plain": [
       "array([[1., 1.],\n",
       "       [1., 1.],\n",
       "       [1., 1.],\n",
       "       [2., 2.],\n",
       "       [2., 2.],\n",
       "       [2., 2.],\n",
       "       [2., 2.],\n",
       "       [3., 3.],\n",
       "       [3., 3.],\n",
       "       [3., 3.]])"
      ]
     },
     "execution_count": 54,
     "metadata": {},
     "output_type": "execute_result"
    }
   ],
   "source": [
    "r4"
   ]
  },
  {
   "cell_type": "markdown",
   "metadata": {},
   "source": [
    "**There is also a split function which splits an array along any given axis. Calling vsplit is equivalent to calling split with axis=0. There is also an hsplit function, equivalent to calling split with axis=1**"
   ]
  },
  {
   "cell_type": "markdown",
   "metadata": {},
   "source": [
    "## Statistics with Numpy"
   ]
  },
  {
   "cell_type": "code",
   "execution_count": 55,
   "metadata": {},
   "outputs": [
    {
     "name": "stdout",
     "output_type": "stream",
     "text": [
      "[[34 72 78  2 82  2 48 17 72 10]\n",
      " [59 87 17 62 55 56 34 31 29 71]\n",
      " [55 64 70 49 81 14 63 59 73 73]\n",
      " [70 88 35 83 84 51 38 92 97 53]\n",
      " [35 59 52 43 12 60 50 52 77 32]\n",
      " [65 43 87 97 83 62 47 20 27 65]\n",
      " [80 25 86 15 82 15 20 20 87 80]\n",
      " [92 82 19 83 94 15 64 74 71 71]\n",
      " [28  4 89 58 21 52 33 68 16 87]\n",
      " [10 43 29 47 44 99 52 17 28 72]]\n"
     ]
    }
   ],
   "source": [
    "stats=np.random.randint(1,100,(10,10))\n",
    "print(stats)"
   ]
  },
  {
   "cell_type": "code",
   "execution_count": 56,
   "metadata": {},
   "outputs": [
    {
     "name": "stdout",
     "output_type": "stream",
     "text": [
      "True\n"
     ]
    },
    {
     "data": {
      "text/plain": [
       "(None, 2, 2)"
      ]
     },
     "execution_count": 56,
     "metadata": {},
     "output_type": "execute_result"
    }
   ],
   "source": [
    "print(np.min(stats)==np.amin(stats)),np.min(stats),np.amin(stats)   #np.min=np.amin"
   ]
  },
  {
   "cell_type": "code",
   "execution_count": 57,
   "metadata": {},
   "outputs": [
    {
     "name": "stdout",
     "output_type": "stream",
     "text": [
      "True\n"
     ]
    },
    {
     "data": {
      "text/plain": [
       "(None, 99, 99)"
      ]
     },
     "execution_count": 57,
     "metadata": {},
     "output_type": "execute_result"
    }
   ],
   "source": [
    "print(np.max(stats)==np.amax(stats) ),np.max(stats),np.amax(stats)  #np.max=np.amax"
   ]
  },
  {
   "cell_type": "code",
   "execution_count": 58,
   "metadata": {},
   "outputs": [
    {
     "name": "stdout",
     "output_type": "stream",
     "text": [
      "Minimum value of the array ---> 2\n",
      "\n",
      "Maximum value of the array ---> 99\n",
      "\n",
      "Mean ---> 53.5\n",
      "\n",
      "Median ---> 55.5\n",
      "\n",
      "Variance ---> 704.69\n",
      "\n",
      "Standard Deviation ---> 26.5459978151133\n",
      "\n",
      "Percentile ---> [30.5  55.5  74.75] (25th Percentile(Q1),50th Percentile(median or Q2),75th Percentile(Q3))\n"
     ]
    }
   ],
   "source": [
    "print('Minimum value of the array --->',np.min(stats))\n",
    "print('\\nMaximum value of the array --->',np.max(stats))\n",
    "print('\\nMean --->',np.mean(stats))\n",
    "print('\\nMedian --->',np.median(stats))\n",
    "print('\\nVariance --->',np.var(stats))\n",
    "print('\\nStandard Deviation --->',np.std(stats))\n",
    "print('\\nPercentile --->',np.percentile(stats,[25,50,75]),'(25th Percentile(Q1),50th Percentile(median or Q2),75th Percentile(Q3))')"
   ]
  },
  {
   "cell_type": "markdown",
   "metadata": {},
   "source": [
    "#### Inter-Quartile Range"
   ]
  },
  {
   "cell_type": "code",
   "execution_count": 59,
   "metadata": {},
   "outputs": [
    {
     "name": "stdout",
     "output_type": "stream",
     "text": [
      "Inter-Quartile Range ---> 44.25\n"
     ]
    }
   ],
   "source": [
    "quartiles=np.percentile(stats,[25,75])\n",
    "iqr=quartiles[1]-quartiles[0]\n",
    "print('Inter-Quartile Range --->',iqr)"
   ]
  },
  {
   "cell_type": "markdown",
   "metadata": {},
   "source": [
    "#### Z-Score"
   ]
  },
  {
   "cell_type": "code",
   "execution_count": 60,
   "metadata": {},
   "outputs": [
    {
     "name": "stdout",
     "output_type": "stream",
     "text": [
      "Z-Score ---> [[0.02394011 0.0506967  0.05492142 0.00140824 0.0577379  0.00140824\n",
      "  0.0337978  0.01197005 0.0506967  0.00704121]\n",
      " [0.04154313 0.06125851 0.01197005 0.04365549 0.03872664 0.03943076\n",
      "  0.02394011 0.02182774 0.0204195  0.04999258]\n",
      " [0.03872664 0.04506373 0.04928845 0.03450192 0.05703378 0.00985769\n",
      "  0.04435961 0.04154313 0.05140082 0.05140082]\n",
      " [0.04928845 0.06196263 0.02464423 0.05844203 0.05914615 0.03591016\n",
      "  0.02675659 0.06477911 0.06829972 0.0373184 ]\n",
      " [0.02464423 0.04154313 0.03661428 0.03027719 0.00844945 0.04224725\n",
      "  0.03520604 0.03661428 0.0542173  0.02253187]\n",
      " [0.04576785 0.03027719 0.06125851 0.06829972 0.05844203 0.04365549\n",
      "  0.03309368 0.01408242 0.01901126 0.04576785]\n",
      " [0.05632966 0.01760302 0.06055439 0.01056181 0.0577379  0.01056181\n",
      "  0.01408242 0.01408242 0.06125851 0.05632966]\n",
      " [0.06477911 0.0577379  0.01337829 0.05844203 0.06618735 0.01056181\n",
      "  0.04506373 0.05210494 0.04999258 0.04999258]\n",
      " [0.01971538 0.00281648 0.06266675 0.04083901 0.01478654 0.03661428\n",
      "  0.02323599 0.04788021 0.01126593 0.06125851]\n",
      " [0.00704121 0.03027719 0.0204195  0.03309368 0.03098131 0.06970796\n",
      "  0.03661428 0.01197005 0.01971538 0.0506967 ]]\n"
     ]
    }
   ],
   "source": [
    "z_score=(stats/np.mean(stats))/np.std(stats)\n",
    "print('Z-Score --->',z_score)"
   ]
  },
  {
   "cell_type": "markdown",
   "metadata": {},
   "source": [
    "# **_AXIS IN MUTI-DIMENSIONAL ARRAY_**"
   ]
  },
  {
   "cell_type": "markdown",
   "metadata": {},
   "source": [
    "**While working with Multi-dimensional array specifying the axis gives the appropriate answer based on row-wise or columnwise.For each and every dimension the ordering of axis changes as show in the below figure**"
   ]
  },
  {
   "cell_type": "markdown",
   "metadata": {},
   "source": [
    "![](ndarr.jpg)"
   ]
  },
  {
   "cell_type": "code",
   "execution_count": 61,
   "metadata": {},
   "outputs": [
    {
     "data": {
      "text/plain": [
       "array([[34, 72, 78,  2, 82,  2, 48, 17, 72, 10],\n",
       "       [59, 87, 17, 62, 55, 56, 34, 31, 29, 71],\n",
       "       [55, 64, 70, 49, 81, 14, 63, 59, 73, 73],\n",
       "       [70, 88, 35, 83, 84, 51, 38, 92, 97, 53],\n",
       "       [35, 59, 52, 43, 12, 60, 50, 52, 77, 32],\n",
       "       [65, 43, 87, 97, 83, 62, 47, 20, 27, 65],\n",
       "       [80, 25, 86, 15, 82, 15, 20, 20, 87, 80],\n",
       "       [92, 82, 19, 83, 94, 15, 64, 74, 71, 71],\n",
       "       [28,  4, 89, 58, 21, 52, 33, 68, 16, 87],\n",
       "       [10, 43, 29, 47, 44, 99, 52, 17, 28, 72]])"
      ]
     },
     "execution_count": 61,
     "metadata": {},
     "output_type": "execute_result"
    }
   ],
   "source": [
    "stats"
   ]
  },
  {
   "cell_type": "code",
   "execution_count": 62,
   "metadata": {},
   "outputs": [
    {
     "name": "stdout",
     "output_type": "stream",
     "text": [
      "Columwise Minimum ---> [10  4 17  2 12  2 20 17 16 10]\n",
      "\n",
      "Rowwise Minimum\n",
      " [[82]\n",
      " [87]\n",
      " [81]\n",
      " [97]\n",
      " [77]\n",
      " [97]\n",
      " [87]\n",
      " [94]\n",
      " [89]\n",
      " [99]]\n"
     ]
    }
   ],
   "source": [
    "print('Columwise Minimum --->',np.min(stats,axis=0))\n",
    "print('\\nRowwise Minimum\\n',np.max(stats,axis=1).reshape(10,1)) # 2Dimensional Array axis=0(columwise) & axis=1(rowwise)"
   ]
  },
  {
   "cell_type": "code",
   "execution_count": 63,
   "metadata": {},
   "outputs": [
    {
     "name": "stdout",
     "output_type": "stream",
     "text": [
      "Columwise Mean ---> [52.8 56.7 56.2 53.9 63.8 42.6 44.9 45.  57.7 61.4]\n",
      "\n",
      "Rowwise Mean\n",
      " [[41.7]\n",
      " [50.1]\n",
      " [60.1]\n",
      " [69.1]\n",
      " [47.2]\n",
      " [59.6]\n",
      " [51. ]\n",
      " [66.5]\n",
      " [45.6]\n",
      " [44.1]]\n"
     ]
    }
   ],
   "source": [
    "print('Columwise Mean --->',np.mean(stats,axis=0))\n",
    "print('\\nRowwise Mean\\n',np.mean(stats,axis=1).reshape(10,1))"
   ]
  },
  {
   "cell_type": "code",
   "execution_count": 64,
   "metadata": {},
   "outputs": [
    {
     "name": "stdout",
     "output_type": "stream",
     "text": [
      "Columwise Sum ---> [528 567 562 539 638 426 449 450 577 614]\n",
      "\n",
      "Rowwise Sum\n",
      " [[417]\n",
      " [501]\n",
      " [601]\n",
      " [691]\n",
      " [472]\n",
      " [596]\n",
      " [510]\n",
      " [665]\n",
      " [456]\n",
      " [441]]\n"
     ]
    }
   ],
   "source": [
    "print('Columwise Sum --->',np.sum(stats,axis=0))\n",
    "print('\\nRowwise Sum\\n',np.sum(stats,axis=1).reshape(10,1))"
   ]
  },
  {
   "cell_type": "markdown",
   "metadata": {},
   "source": [
    "## Limitations of NumPy"
   ]
  },
  {
   "cell_type": "markdown",
   "metadata": {},
   "source": [
    "* *There is no way to attach labels to data.*\n",
    "* *There is no pre-built methods to fill missing values.*\n",
    "* *There is no way to group data.*\n",
    "* *There is no way to Pivot data.*\n",
    "\n",
    "**_Thus to overcome these limitations we use Pandas package._**"
   ]
  },
  {
   "cell_type": "markdown",
   "metadata": {},
   "source": [
    "-----------------------------------------------------------------------------------------THE END---------------------------------------------------------------------------------------"
   ]
  },
  {
   "cell_type": "code",
   "execution_count": null,
   "metadata": {},
   "outputs": [],
   "source": []
  }
 ],
 "metadata": {
  "kernelspec": {
   "display_name": "Python 3",
   "language": "python",
   "name": "python3"
  },
  "language_info": {
   "codemirror_mode": {
    "name": "ipython",
    "version": 3
   },
   "file_extension": ".py",
   "mimetype": "text/x-python",
   "name": "python",
   "nbconvert_exporter": "python",
   "pygments_lexer": "ipython3",
   "version": "3.6.6"
  }
 },
 "nbformat": 4,
 "nbformat_minor": 2
}
